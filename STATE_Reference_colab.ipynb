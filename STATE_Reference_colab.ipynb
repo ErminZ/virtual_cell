{
 "cells": [
  {
   "cell_type": "markdown",
   "id": "0afc135f-de38-4418-8817-a011ec92b8f0",
   "metadata": {},
   "source": [
    "# Repeat from colab jupyter"
   ]
  },
  {
   "cell_type": "code",
   "execution_count": 25,
   "id": "e23be7aa-6a31-4db8-8251-2e7109b9e4fe",
   "metadata": {
    "scrolled": true
   },
   "outputs": [
    {
     "name": "stdout",
     "output_type": "stream",
     "text": [
      "usage: state [-h] {emb,tx} ...\n",
      "\n",
      "positional arguments:\n",
      "  {emb,tx}\n",
      "\n",
      "options:\n",
      "  -h, --help  show this help message and exit\n"
     ]
    }
   ],
   "source": [
    "# Dockerfile has state installed\n",
    "# Looking at your Dockerfile, the issue is that uv tool install creates an isolated environment that may not persist properly in the Docker container\n",
    "# cause wandb config files missing \n",
    "! state --help"
   ]
  },
  {
   "cell_type": "markdown",
   "id": "dc1bd34d-7cc2-43eb-bc54-cdaaa6eb2797",
   "metadata": {},
   "source": [
    "# Clone the repository"
   ]
  },
  {
   "cell_type": "code",
   "execution_count": 2,
   "id": "2078c65a-cdd8-4d15-b957-2c9243586e9a",
   "metadata": {},
   "outputs": [
    {
     "name": "stdout",
     "output_type": "stream",
     "text": [
      "Cloning into 'state'...\n",
      "remote: Enumerating objects: 6345, done.\u001b[K\n",
      "remote: Counting objects: 100% (505/505), done.\u001b[K\n",
      "remote: Compressing objects: 100% (209/209), done.\u001b[K90/209)\u001b[K\n",
      "remote: Total 6345 (delta 367), reused 345 (delta 274), pack-reused 5840 (from 2)\u001b[K\n",
      "Receiving objects: 100% (6345/6345), 122.69 MiB | 17.25 MiB/s, done.\n",
      "Resolving deltas: 100% (3866/3866), done.\n",
      "/workspace/state\n"
     ]
    }
   ],
   "source": [
    "# Clone the repository\n",
    "! git clone https://github.com/ArcInstitute/state.git\n",
    "%cd state\n",
    "\n",
    "# Colab-specific config for pytorch lightning\n",
    "import os\n",
    "os.environ['MPLBACKEND'] = 'Agg'"
   ]
  },
  {
   "cell_type": "markdown",
   "id": "11f9bb1c-9f4f-4e9e-86f7-e6f34c02bc04",
   "metadata": {},
   "source": [
    "# Download the Replogle-Nadig training dataset."
   ]
  },
  {
   "cell_type": "code",
   "execution_count": 3,
   "id": "4ab8eaca-6f08-4b5f-aa85-f7e976600d9d",
   "metadata": {},
   "outputs": [
    {
     "name": "stdout",
     "output_type": "stream",
     "text": [
      "Requirement already satisfied: requests in /usr/local/lib/python3.11/site-packages (2.32.4)\n",
      "Requirement already satisfied: tqdm in /usr/local/lib/python3.11/site-packages (4.66.1)\n",
      "Requirement already satisfied: charset_normalizer<4,>=2 in /usr/local/lib/python3.11/site-packages (from requests) (2.1.1)\n",
      "Requirement already satisfied: idna<4,>=2.5 in /usr/local/lib/python3.11/site-packages (from requests) (3.4)\n",
      "Requirement already satisfied: urllib3<3,>=1.21.1 in /usr/local/lib/python3.11/site-packages (from requests) (1.26.13)\n",
      "Requirement already satisfied: certifi>=2017.4.17 in /usr/local/lib/python3.11/site-packages (from requests) (2022.12.7)\n",
      "\u001b[33mWARNING: Running pip as the 'root' user can result in broken permissions and conflicting behaviour with the system package manager, possibly rendering your system unusable. It is recommended to use a virtual environment instead: https://pip.pypa.io/warnings/venv. Use the --root-user-action option if you know what you are doing and want to suppress this warning.\u001b[0m\u001b[33m\n",
      "\u001b[0mNote: you may need to restart the kernel to use updated packages.\n"
     ]
    },
    {
     "data": {
      "application/vnd.jupyter.widget-view+json": {
       "model_id": "04e3fc3bdc3145ef9038af3b70ce3129",
       "version_major": 2,
       "version_minor": 0
      },
      "text/plain": [
       "Downloading:   0%|          | 0.00/6.69G [00:00<?, ?B/s]"
      ]
     },
     "metadata": {},
     "output_type": "display_data"
    }
   ],
   "source": [
    "%pip install requests tqdm\n",
    "\n",
    "import requests\n",
    "from tqdm.auto import tqdm  # picks the best bar for the environment\n",
    "\n",
    "url = \"https://storage.googleapis.com/vcc_data_prod/datasets/state/competition_support_set.zip\"\n",
    "output_path = \"competition_support_set.zip\"\n",
    "\n",
    "# stream the download so we can track progress\n",
    "response = requests.get(url, stream=True)\n",
    "total = int(response.headers.get(\"content-length\", 0))\n",
    "\n",
    "with open(output_path, \"wb\") as f, tqdm(\n",
    "    total=total, unit='B', unit_scale=True, desc=\"Downloading\"\n",
    ") as bar:\n",
    "    for chunk in response.iter_content(chunk_size=8192):\n",
    "        if not chunk:\n",
    "            break\n",
    "        f.write(chunk)\n",
    "        bar.update(len(chunk))"
   ]
  },
  {
   "cell_type": "code",
   "execution_count": 4,
   "id": "75cb0b58-fbbe-46d4-852d-75d2e67642dc",
   "metadata": {},
   "outputs": [
    {
     "data": {
      "application/vnd.jupyter.widget-view+json": {
       "model_id": "5f0aa83916244159bef6ba912f356c92",
       "version_major": 2,
       "version_minor": 0
      },
      "text/plain": [
       "Unzipping:   0%|          | 0/10 [00:00<?, ?file/s]"
      ]
     },
     "metadata": {},
     "output_type": "display_data"
    }
   ],
   "source": [
    "from zipfile import ZipFile\n",
    "from tqdm.auto import tqdm\n",
    "import os\n",
    "\n",
    "out_dir  = \"competition_support_set\"\n",
    "\n",
    "os.makedirs(out_dir, exist_ok=True)\n",
    "\n",
    "with ZipFile(output_path, 'r') as z:\n",
    "    for member in tqdm(z.infolist(), desc=\"Unzipping\", unit=\"file\"):\n",
    "        z.extract(member, out_dir)"
   ]
  },
  {
   "cell_type": "markdown",
   "id": "4c28876a-1732-487e-afaf-10b335796879",
   "metadata": {},
   "source": [
    "# Set Weights and Biases Entity for tracking"
   ]
  },
  {
   "cell_type": "code",
   "execution_count": 5,
   "id": "24c825a7-ed32-418c-b5e7-65fcefffcae3",
   "metadata": {},
   "outputs": [],
   "source": [
    "# @title Set Weights and Biases Entity for tracking\n",
    "entity = \"arcinstitute\" # @param {\"type\":\"string\",\"placeholder\":\"arcinstitute\"}\n",
    "! sed -i 's|entity: your_entity_name|entity: ${entity}|g' src/state/configs/wandb/default.yaml"
   ]
  },
  {
   "cell_type": "markdown",
   "id": "7f07a0ab-b7dc-4240-85bb-34c50473d31b",
   "metadata": {},
   "source": [
    "# Training"
   ]
  },
  {
   "cell_type": "code",
   "execution_count": 23,
   "id": "813473ff-526c-4798-8b42-4340c22781fe",
   "metadata": {},
   "outputs": [
    {
     "name": "stdout",
     "output_type": "stream",
     "text": [
      "Traceback (most recent call last):\n",
      "  File \"/root/.local/bin/state\", line 10, in <module>\n",
      "    sys.exit(main())\n",
      "             ^^^^^^\n",
      "  File \"/root/.local/share/uv/tools/arc-state/lib/python3.11/site-packages/state/__main__.py\", line 61, in main\n",
      "    cfg = load_hydra_config(\"tx\", args.hydra_overrides)\n",
      "          ^^^^^^^^^^^^^^^^^^^^^^^^^^^^^^^^^^^^^^^^^^^^^\n",
      "  File \"/root/.local/share/uv/tools/arc-state/lib/python3.11/site-packages/state/__main__.py\", line 40, in load_hydra_config\n",
      "    cfg = compose(config_name=\"config\", overrides=overrides)\n",
      "          ^^^^^^^^^^^^^^^^^^^^^^^^^^^^^^^^^^^^^^^^^^^^^^^^^^\n",
      "  File \"/root/.local/share/uv/tools/arc-state/lib/python3.11/site-packages/hydra/compose.py\", line 38, in compose\n",
      "    cfg = gh.hydra.compose_config(\n",
      "          ^^^^^^^^^^^^^^^^^^^^^^^^\n",
      "  File \"/root/.local/share/uv/tools/arc-state/lib/python3.11/site-packages/hydra/_internal/hydra.py\", line 594, in compose_config\n",
      "    cfg = self.config_loader.load_configuration(\n",
      "          ^^^^^^^^^^^^^^^^^^^^^^^^^^^^^^^^^^^^^^\n",
      "  File \"/root/.local/share/uv/tools/arc-state/lib/python3.11/site-packages/hydra/_internal/config_loader_impl.py\", line 142, in load_configuration\n",
      "    return self._load_configuration_impl(\n",
      "           ^^^^^^^^^^^^^^^^^^^^^^^^^^^^^^\n",
      "  File \"/root/.local/share/uv/tools/arc-state/lib/python3.11/site-packages/hydra/_internal/config_loader_impl.py\", line 253, in _load_configuration_impl\n",
      "    defaults_list = create_defaults_list(\n",
      "                    ^^^^^^^^^^^^^^^^^^^^^\n",
      "  File \"/root/.local/share/uv/tools/arc-state/lib/python3.11/site-packages/hydra/_internal/defaults_list.py\", line 745, in create_defaults_list\n",
      "    defaults, tree = _create_defaults_list(\n",
      "                     ^^^^^^^^^^^^^^^^^^^^^^\n",
      "  File \"/root/.local/share/uv/tools/arc-state/lib/python3.11/site-packages/hydra/_internal/defaults_list.py\", line 715, in _create_defaults_list\n",
      "    defaults_tree = _create_defaults_tree(\n",
      "                    ^^^^^^^^^^^^^^^^^^^^^^\n",
      "  File \"/root/.local/share/uv/tools/arc-state/lib/python3.11/site-packages/hydra/_internal/defaults_list.py\", line 356, in _create_defaults_tree\n",
      "    ret = _create_defaults_tree_impl(\n",
      "          ^^^^^^^^^^^^^^^^^^^^^^^^^^^\n",
      "  File \"/root/.local/share/uv/tools/arc-state/lib/python3.11/site-packages/hydra/_internal/defaults_list.py\", line 457, in _create_defaults_tree_impl\n",
      "    return _expand_virtual_root(repo, root, overrides, skip_missing)\n",
      "           ^^^^^^^^^^^^^^^^^^^^^^^^^^^^^^^^^^^^^^^^^^^^^^^^^^^^^^^^^\n",
      "  File \"/root/.local/share/uv/tools/arc-state/lib/python3.11/site-packages/hydra/_internal/defaults_list.py\", line 280, in _expand_virtual_root\n",
      "    subtree = _create_defaults_tree_impl(\n",
      "              ^^^^^^^^^^^^^^^^^^^^^^^^^^^\n",
      "  File \"/root/.local/share/uv/tools/arc-state/lib/python3.11/site-packages/hydra/_internal/defaults_list.py\", line 573, in _create_defaults_tree_impl\n",
      "    add_child(children, new_root)\n",
      "  File \"/root/.local/share/uv/tools/arc-state/lib/python3.11/site-packages/hydra/_internal/defaults_list.py\", line 520, in add_child\n",
      "    subtree_ = _create_defaults_tree_impl(\n",
      "               ^^^^^^^^^^^^^^^^^^^^^^^^^^^\n",
      "  File \"/root/.local/share/uv/tools/arc-state/lib/python3.11/site-packages/hydra/_internal/defaults_list.py\", line 488, in _create_defaults_tree_impl\n",
      "    config_not_found_error(repo=repo, tree=root)\n",
      "  File \"/root/.local/share/uv/tools/arc-state/lib/python3.11/site-packages/hydra/_internal/defaults_list.py\", line 799, in config_not_found_error\n",
      "    raise MissingConfigException(\n",
      "hydra.errors.MissingConfigException: In 'config': Could not find 'wandb/default'\n",
      "\n",
      "Config search path:\n",
      "\tprovider=hydra, path=pkg://hydra.conf\n",
      "\tprovider=main, path=file:///root/.local/share/uv/tools/arc-state/lib/python3.11/site-packages/state/configs\n",
      "\tprovider=schema, path=structured://\n"
     ]
    }
   ],
   "source": [
    "# State TX Training Command\n",
    "# This setups up training for State across datasets, using ESM2 featurizations\n",
    "# of genes as the perturbation embeddings. Note that we are now generalizing\n",
    "# across both contexts and perturbations (not just contexts)\n",
    "! state tx train \\\n",
    "  data.kwargs.toml_config_path=\"competition_support_set/starter.toml\" \\\n",
    "  data.kwargs.num_workers=4 \\\n",
    "  data.kwargs.batch_col=\"batch_var\" \\\n",
    "  data.kwargs.pert_col=\"target_gene\" \\\n",
    "  data.kwargs.cell_type_key=\"cell_type\" \\\n",
    "  data.kwargs.control_pert=\"non-targeting\" \\\n",
    "  data.kwargs.perturbation_features_file=\"competition_support_set/ESM2_pert_features.pt\" \\\n",
    "  training.max_steps=400 \\\n",
    "  training.ckpt_every_n_steps=200 \\\n",
    "  model=state_sm \\\n",
    "  wandb.tags=\"[test]\" \\\n",
    "  output_dir=\"competition\" \\\n",
    "  name=\"first_run\""
   ]
  },
  {
   "cell_type": "code",
   "execution_count": 9,
   "id": "d5278280-5f93-4fce-8501-9891b26b197b",
   "metadata": {},
   "outputs": [
    {
     "name": "stdout",
     "output_type": "stream",
     "text": [
      "Collecting wandb\n",
      "  Downloading wandb-0.21.0-py3-none-manylinux_2_17_aarch64.manylinux2014_aarch64.whl.metadata (10 kB)\n",
      "Requirement already satisfied: click!=8.0.0,>=7.1 in /usr/local/lib/python3.11/site-packages (from wandb) (8.1.7)\n",
      "Collecting gitpython!=3.1.29,>=1.0.0 (from wandb)\n",
      "  Downloading GitPython-3.1.44-py3-none-any.whl.metadata (13 kB)\n",
      "Requirement already satisfied: packaging in /usr/local/lib/python3.11/site-packages (from wandb) (24.2)\n",
      "Requirement already satisfied: platformdirs in /usr/local/lib/python3.11/site-packages (from wandb) (4.3.8)\n",
      "Collecting protobuf!=4.21.0,!=5.28.0,<7,>=3.19.0 (from wandb)\n",
      "  Downloading protobuf-6.31.1-cp39-abi3-manylinux2014_aarch64.whl.metadata (593 bytes)\n",
      "Collecting pydantic<3 (from wandb)\n",
      "  Downloading pydantic-2.11.7-py3-none-any.whl.metadata (67 kB)\n",
      "Requirement already satisfied: pyyaml in /usr/local/lib/python3.11/site-packages (from wandb) (6.0.1)\n",
      "Requirement already satisfied: requests<3,>=2.0.0 in /usr/local/lib/python3.11/site-packages (from wandb) (2.32.4)\n",
      "Collecting sentry-sdk>=2.0.0 (from wandb)\n",
      "  Downloading sentry_sdk-2.32.0-py2.py3-none-any.whl.metadata (10 kB)\n",
      "Requirement already satisfied: typing-extensions<5,>=4.8 in /usr/local/lib/python3.11/site-packages (from wandb) (4.12.2)\n",
      "Collecting annotated-types>=0.6.0 (from pydantic<3->wandb)\n",
      "  Downloading annotated_types-0.7.0-py3-none-any.whl.metadata (15 kB)\n",
      "Collecting pydantic-core==2.33.2 (from pydantic<3->wandb)\n",
      "  Downloading pydantic_core-2.33.2-cp311-cp311-manylinux_2_17_aarch64.manylinux2014_aarch64.whl.metadata (6.8 kB)\n",
      "Collecting typing-inspection>=0.4.0 (from pydantic<3->wandb)\n",
      "  Downloading typing_inspection-0.4.1-py3-none-any.whl.metadata (2.6 kB)\n",
      "Requirement already satisfied: charset_normalizer<4,>=2 in /usr/local/lib/python3.11/site-packages (from requests<3,>=2.0.0->wandb) (2.1.1)\n",
      "Requirement already satisfied: idna<4,>=2.5 in /usr/local/lib/python3.11/site-packages (from requests<3,>=2.0.0->wandb) (3.4)\n",
      "Requirement already satisfied: urllib3<3,>=1.21.1 in /usr/local/lib/python3.11/site-packages (from requests<3,>=2.0.0->wandb) (1.26.13)\n",
      "Requirement already satisfied: certifi>=2017.4.17 in /usr/local/lib/python3.11/site-packages (from requests<3,>=2.0.0->wandb) (2022.12.7)\n",
      "Collecting gitdb<5,>=4.0.1 (from gitpython!=3.1.29,>=1.0.0->wandb)\n",
      "  Downloading gitdb-4.0.12-py3-none-any.whl.metadata (1.2 kB)\n",
      "Collecting smmap<6,>=3.0.1 (from gitdb<5,>=4.0.1->gitpython!=3.1.29,>=1.0.0->wandb)\n",
      "  Downloading smmap-5.0.2-py3-none-any.whl.metadata (4.3 kB)\n",
      "Downloading wandb-0.21.0-py3-none-manylinux_2_17_aarch64.manylinux2014_aarch64.whl (20.7 MB)\n",
      "\u001b[2K   \u001b[90m━━━━━━━━━━━━━━━━━━━━━━━━━━━━━━━━━━━━━━━━\u001b[0m \u001b[32m20.7/20.7 MB\u001b[0m \u001b[31m12.0 MB/s\u001b[0m eta \u001b[36m0:00:00\u001b[0ma \u001b[36m0:00:01\u001b[0m\n",
      "\u001b[?25hDownloading protobuf-6.31.1-cp39-abi3-manylinux2014_aarch64.whl (322 kB)\n",
      "Downloading pydantic-2.11.7-py3-none-any.whl (444 kB)\n",
      "Downloading pydantic_core-2.33.2-cp311-cp311-manylinux_2_17_aarch64.manylinux2014_aarch64.whl (1.9 MB)\n",
      "\u001b[2K   \u001b[90m━━━━━━━━━━━━━━━━━━━━━━━━━━━━━━━━━━━━━━━━\u001b[0m \u001b[32m1.9/1.9 MB\u001b[0m \u001b[31m14.4 MB/s\u001b[0m eta \u001b[36m0:00:00\u001b[0m\n",
      "\u001b[?25hDownloading annotated_types-0.7.0-py3-none-any.whl (13 kB)\n",
      "Downloading GitPython-3.1.44-py3-none-any.whl (207 kB)\n",
      "Downloading gitdb-4.0.12-py3-none-any.whl (62 kB)\n",
      "Downloading smmap-5.0.2-py3-none-any.whl (24 kB)\n",
      "Downloading sentry_sdk-2.32.0-py2.py3-none-any.whl (356 kB)\n",
      "Downloading typing_inspection-0.4.1-py3-none-any.whl (14 kB)\n",
      "Installing collected packages: typing-inspection, smmap, sentry-sdk, pydantic-core, protobuf, annotated-types, pydantic, gitdb, gitpython, wandb\n",
      "\u001b[2K   \u001b[90m━━━━━━━━━━━━━━━━━━━━━━━━━━━━━━━━━━━━━━━━\u001b[0m \u001b[32m10/10\u001b[0m [wandb]m 9/10\u001b[0m [wandb]ic]core]\n",
      "\u001b[1A\u001b[2KSuccessfully installed annotated-types-0.7.0 gitdb-4.0.12 gitpython-3.1.44 protobuf-6.31.1 pydantic-2.11.7 pydantic-core-2.33.2 sentry-sdk-2.32.0 smmap-5.0.2 typing-inspection-0.4.1 wandb-0.21.0\n",
      "\u001b[33mWARNING: Running pip as the 'root' user can result in broken permissions and conflicting behaviour with the system package manager, possibly rendering your system unusable. It is recommended to use a virtual environment instead: https://pip.pypa.io/warnings/venv. Use the --root-user-action option if you know what you are doing and want to suppress this warning.\u001b[0m\u001b[33m\n",
      "\u001b[0m"
     ]
    }
   ],
   "source": [
    "# install wandb\n",
    "! pip install wandb\n",
    "import wandb"
   ]
  },
  {
   "cell_type": "code",
   "execution_count": 13,
   "id": "8562b2e9-b43c-4a54-a81c-967470b28a11",
   "metadata": {},
   "outputs": [
    {
     "name": "stdout",
     "output_type": "stream",
     "text": [
      "usage: state tx train [-h] [hydra_overrides ...]\n",
      "\n",
      "positional arguments:\n",
      "  hydra_overrides  Hydra configuration overrides (e.g., data.batch_size=32)\n",
      "\n",
      "options:\n",
      "  -h, --help       show this help message and exit\n"
     ]
    }
   ],
   "source": [
    "! state tx train --cfg job --help"
   ]
  },
  {
   "cell_type": "code",
   "execution_count": 21,
   "id": "5ebb7828-a9eb-4d39-80f0-7e9121133590",
   "metadata": {},
   "outputs": [
    {
     "name": "stdout",
     "output_type": "stream",
     "text": [
      "usage: state [-h] {emb,tx} ...\n",
      "\n",
      "positional arguments:\n",
      "  {emb,tx}\n",
      "\n",
      "options:\n",
      "  -h, --help  show this help message and exit\n"
     ]
    }
   ],
   "source": [
    "# to make sure the state configue files wandb exist, reinstall the sate\n",
    "# solve error hydra.errors.MissingConfigException: In 'config': Could not find 'wandb/default'\n",
    "! uv run state --help --link-mode=copy"
   ]
  },
  {
   "cell_type": "code",
   "execution_count": 24,
   "id": "01c8eca6-2803-409d-957d-4e596cb7982a",
   "metadata": {},
   "outputs": [
    {
     "name": "stdout",
     "output_type": "stream",
     "text": [
      "ls: cannot access 'file:///root/.local/share/uv/tools/arc-state/lib/python3.11/site-packages/state/configs': No such file or directory\n"
     ]
    }
   ],
   "source": [
    "! ls file:///root/.local/share/uv/tools/arc-state/lib/python3.11/site-packages/state/configs"
   ]
  },
  {
   "cell_type": "code",
   "execution_count": null,
   "id": "f1e6ec6f-c98f-46bf-9641-0aca7c60b1b7",
   "metadata": {},
   "outputs": [],
   "source": []
  },
  {
   "cell_type": "markdown",
   "id": "b20caccc-93f4-40bb-9aae-c3b1a78977f0",
   "metadata": {},
   "source": [
    "# Run inference on the competition validation perturbations."
   ]
  },
  {
   "cell_type": "code",
   "execution_count": 20,
   "id": "590c3ef0-ff65-4119-b874-2f1ef967fb9c",
   "metadata": {},
   "outputs": [
    {
     "name": "stdout",
     "output_type": "stream",
     "text": [
      "ls: cannot access 'competition/first_run/checkpoints/': No such file or directory\n"
     ]
    }
   ],
   "source": [
    "# View the available checkpoints\n",
    "# This will be populated as you run training\n",
    "\n",
    "! ls competition/first_run/checkpoints/"
   ]
  },
  {
   "cell_type": "code",
   "execution_count": 19,
   "id": "317375b6-3a44-47b1-8177-7bf272056690",
   "metadata": {},
   "outputs": [
    {
     "name": "stdout",
     "output_type": "stream",
     "text": [
      "Traceback (most recent call last):\n",
      "  File \"/root/.local/bin/state\", line 10, in <module>\n",
      "    sys.exit(main())\n",
      "             ^^^^^^\n",
      "  File \"/root/.local/share/uv/tools/arc-state/lib/python3.11/site-packages/state/__main__.py\", line 68, in main\n",
      "    run_tx_infer(args)\n",
      "  File \"/root/.local/share/uv/tools/arc-state/lib/python3.11/site-packages/state/_cli/_tx/_infer.py\", line 58, in run_tx_infer\n",
      "    cfg = load_config(config_path)\n",
      "          ^^^^^^^^^^^^^^^^^^^^^^^^\n",
      "  File \"/root/.local/share/uv/tools/arc-state/lib/python3.11/site-packages/state/_cli/_tx/_infer.py\", line 51, in load_config\n",
      "    raise FileNotFoundError(f\"Could not find config file: {cfg_path}\")\n",
      "FileNotFoundError: Could not find config file: competition/first_run/config.yaml\n"
     ]
    }
   ],
   "source": [
    "! state tx infer \\\n",
    "  --output \"competition/prediction.h5ad\" \\\n",
    "  --model_dir \"competition/first_run\" \\\n",
    "  --checkpoint \"competition/first_run/checkpoints/final.ckpt\" \\\n",
    "  --adata \"competition_support_set/competition_val_template.h5ad\" \\\n",
    "  --pert_col \"target_gene\""
   ]
  },
  {
   "cell_type": "code",
   "execution_count": null,
   "id": "dbacc1ae-bce3-4810-97b7-bf701923b391",
   "metadata": {},
   "outputs": [],
   "source": []
  },
  {
   "cell_type": "code",
   "execution_count": null,
   "id": "e842666c-70e1-4ed6-895c-8c32d7679d1c",
   "metadata": {},
   "outputs": [],
   "source": []
  },
  {
   "cell_type": "code",
   "execution_count": null,
   "id": "70822381-05ad-4c1a-ab5e-37537d6505f8",
   "metadata": {},
   "outputs": [],
   "source": []
  },
  {
   "cell_type": "markdown",
   "id": "8f7e9422-1315-4e80-97e4-65c964124597",
   "metadata": {},
   "source": [
    "# Run Cell-Eval on the resulting anndata and submit your entry to the leaderboard."
   ]
  },
  {
   "cell_type": "code",
   "execution_count": null,
   "id": "f446456a-a271-42d0-a291-78e03cedd559",
   "metadata": {},
   "outputs": [],
   "source": [
    "# install zstd for cell eval prep\n",
    "! sudo apt install -y zstd"
   ]
  },
  {
   "cell_type": "code",
   "execution_count": null,
   "id": "56be4638-5962-42c7-96f0-28c4c645efab",
   "metadata": {},
   "outputs": [],
   "source": [
    "! tool run --from git+https://github.com/ArcInstitute/cell-eval@main cell-eval prep -i competition/prediction.h5ad -g competition_support_set/gene_names.csv"
   ]
  },
  {
   "cell_type": "code",
   "execution_count": null,
   "id": "0a05cb1f-22f7-44f6-b68e-17f663a17bd9",
   "metadata": {},
   "outputs": [],
   "source": []
  },
  {
   "cell_type": "code",
   "execution_count": null,
   "id": "0f391274-2225-44fc-8f68-86879799c6f5",
   "metadata": {},
   "outputs": [],
   "source": []
  }
 ],
 "metadata": {
  "kernelspec": {
   "display_name": "Python 3 (ipykernel)",
   "language": "python",
   "name": "python3"
  },
  "language_info": {
   "codemirror_mode": {
    "name": "ipython",
    "version": 3
   },
   "file_extension": ".py",
   "mimetype": "text/x-python",
   "name": "python",
   "nbconvert_exporter": "python",
   "pygments_lexer": "ipython3",
   "version": "3.11.13"
  }
 },
 "nbformat": 4,
 "nbformat_minor": 5
}
