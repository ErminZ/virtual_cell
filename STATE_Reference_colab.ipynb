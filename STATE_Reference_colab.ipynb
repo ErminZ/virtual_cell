{
 "cells": [
  {
   "cell_type": "markdown",
   "id": "0afc135f-de38-4418-8817-a011ec92b8f0",
   "metadata": {},
   "source": [
    "# Repeat from colab jupyter"
   ]
  },
  {
   "cell_type": "code",
   "execution_count": 2,
   "id": "e23be7aa-6a31-4db8-8251-2e7109b9e4fe",
   "metadata": {
    "scrolled": true
   },
   "outputs": [
    {
     "name": "stdout",
     "output_type": "stream",
     "text": [
      "Traceback (most recent call last):\n",
      "  File \"/usr/local/bin/state\", line 5, in <module>\n",
      "    from state.__main__ import main\n",
      "ModuleNotFoundError: No module named 'state'\n"
     ]
    }
   ],
   "source": [
    "# Dockerfile has state installed\n",
    "# Looking at your Dockerfile, the issue is that uv tool install creates an isolated environment that may not persist properly in the Docker container\n",
    "# cause wandb config files missing \n",
    "! state --help"
   ]
  },
  {
   "cell_type": "code",
   "execution_count": 4,
   "id": "8527cfa8-809a-49a6-8618-ed73e7c8f638",
   "metadata": {},
   "outputs": [
    {
     "name": "stdout",
     "output_type": "stream",
     "text": [
      "Traceback (most recent call last):\n",
      "  File \"/usr/local/bin/state\", line 5, in <module>\n",
      "    from state.__main__ import main\n",
      "ModuleNotFoundError: No module named 'state'\n"
     ]
    }
   ],
   "source": [
    "# install the package\n",
    "! uv run state --help"
   ]
  },
  {
   "cell_type": "markdown",
   "id": "dc1bd34d-7cc2-43eb-bc54-cdaaa6eb2797",
   "metadata": {},
   "source": [
    "# Clone the repository"
   ]
  },
  {
   "cell_type": "code",
   "execution_count": 3,
   "id": "2078c65a-cdd8-4d15-b957-2c9243586e9a",
   "metadata": {},
   "outputs": [
    {
     "name": "stdout",
     "output_type": "stream",
     "text": [
      "Cloning into 'state'...\n",
      "remote: Enumerating objects: 6345, done.\u001b[K\n",
      "remote: Counting objects: 100% (505/505), done.\u001b[K\n",
      "remote: Compressing objects: 100% (209/209), done.\u001b[K\n",
      "remote: Total 6345 (delta 367), reused 345 (delta 274), pack-reused 5840 (from 2)\u001b[K\n",
      "Receiving objects: 100% (6345/6345), 122.69 MiB | 18.24 MiB/s, done.\n",
      "Resolving deltas: 100% (3866/3866), done.\n",
      "/workspace/state\n"
     ]
    }
   ],
   "source": [
    "# Clone the repository\n",
    "! git clone https://github.com/ArcInstitute/state.git\n",
    "%cd state\n",
    "\n",
    "# Colab-specific config for pytorch lightning\n",
    "import os\n",
    "os.environ['MPLBACKEND'] = 'Agg'"
   ]
  },
  {
   "cell_type": "markdown",
   "id": "11f9bb1c-9f4f-4e9e-86f7-e6f34c02bc04",
   "metadata": {},
   "source": [
    "# Download the Replogle-Nadig training dataset."
   ]
  },
  {
   "cell_type": "code",
   "execution_count": 3,
   "id": "4ab8eaca-6f08-4b5f-aa85-f7e976600d9d",
   "metadata": {},
   "outputs": [
    {
     "name": "stdout",
     "output_type": "stream",
     "text": [
      "Requirement already satisfied: requests in /usr/local/lib/python3.11/site-packages (2.32.4)\n",
      "Requirement already satisfied: tqdm in /usr/local/lib/python3.11/site-packages (4.66.1)\n",
      "Requirement already satisfied: charset_normalizer<4,>=2 in /usr/local/lib/python3.11/site-packages (from requests) (2.1.1)\n",
      "Requirement already satisfied: idna<4,>=2.5 in /usr/local/lib/python3.11/site-packages (from requests) (3.4)\n",
      "Requirement already satisfied: urllib3<3,>=1.21.1 in /usr/local/lib/python3.11/site-packages (from requests) (1.26.13)\n",
      "Requirement already satisfied: certifi>=2017.4.17 in /usr/local/lib/python3.11/site-packages (from requests) (2022.12.7)\n",
      "\u001b[33mWARNING: Running pip as the 'root' user can result in broken permissions and conflicting behaviour with the system package manager, possibly rendering your system unusable. It is recommended to use a virtual environment instead: https://pip.pypa.io/warnings/venv. Use the --root-user-action option if you know what you are doing and want to suppress this warning.\u001b[0m\u001b[33m\n",
      "\u001b[0mNote: you may need to restart the kernel to use updated packages.\n"
     ]
    },
    {
     "data": {
      "application/vnd.jupyter.widget-view+json": {
       "model_id": "04e3fc3bdc3145ef9038af3b70ce3129",
       "version_major": 2,
       "version_minor": 0
      },
      "text/plain": [
       "Downloading:   0%|          | 0.00/6.69G [00:00<?, ?B/s]"
      ]
     },
     "metadata": {},
     "output_type": "display_data"
    }
   ],
   "source": [
    "%pip install requests tqdm\n",
    "\n",
    "import requests\n",
    "from tqdm.auto import tqdm  # picks the best bar for the environment\n",
    "\n",
    "url = \"https://storage.googleapis.com/vcc_data_prod/datasets/state/competition_support_set.zip\"\n",
    "output_path = \"competition_support_set.zip\"\n",
    "\n",
    "# stream the download so we can track progress\n",
    "response = requests.get(url, stream=True)\n",
    "total = int(response.headers.get(\"content-length\", 0))\n",
    "\n",
    "with open(output_path, \"wb\") as f, tqdm(\n",
    "    total=total, unit='B', unit_scale=True, desc=\"Downloading\"\n",
    ") as bar:\n",
    "    for chunk in response.iter_content(chunk_size=8192):\n",
    "        if not chunk:\n",
    "            break\n",
    "        f.write(chunk)\n",
    "        bar.update(len(chunk))"
   ]
  },
  {
   "cell_type": "code",
   "execution_count": 4,
   "id": "75cb0b58-fbbe-46d4-852d-75d2e67642dc",
   "metadata": {},
   "outputs": [
    {
     "data": {
      "application/vnd.jupyter.widget-view+json": {
       "model_id": "5f0aa83916244159bef6ba912f356c92",
       "version_major": 2,
       "version_minor": 0
      },
      "text/plain": [
       "Unzipping:   0%|          | 0/10 [00:00<?, ?file/s]"
      ]
     },
     "metadata": {},
     "output_type": "display_data"
    }
   ],
   "source": [
    "from zipfile import ZipFile\n",
    "from tqdm.auto import tqdm\n",
    "import os\n",
    "\n",
    "out_dir  = \"competition_support_set\"\n",
    "\n",
    "os.makedirs(out_dir, exist_ok=True)\n",
    "\n",
    "with ZipFile(output_path, 'r') as z:\n",
    "    for member in tqdm(z.infolist(), desc=\"Unzipping\", unit=\"file\"):\n",
    "        z.extract(member, out_dir)"
   ]
  },
  {
   "cell_type": "markdown",
   "id": "4c28876a-1732-487e-afaf-10b335796879",
   "metadata": {},
   "source": [
    "# Set Weights and Biases Entity for tracking"
   ]
  },
  {
   "cell_type": "code",
   "execution_count": 8,
   "id": "24c825a7-ed32-418c-b5e7-65fcefffcae3",
   "metadata": {},
   "outputs": [],
   "source": [
    "# @title Set Weights and Biases Entity for tracking\n",
    "entity = \"arcinstitute\" # @param {\"type\":\"string\",\"placeholder\":\"arcinstitute\"}\n",
    "! sed -i 's|entity: your_entity_name|entity: ${entity}|g' src/state/configs/wandb/default.yaml"
   ]
  },
  {
   "cell_type": "markdown",
   "id": "7f07a0ab-b7dc-4240-85bb-34c50473d31b",
   "metadata": {},
   "source": [
    "# Training"
   ]
  },
  {
   "cell_type": "code",
   "execution_count": 3,
   "id": "813473ff-526c-4798-8b42-4340c22781fe",
   "metadata": {},
   "outputs": [
    {
     "name": "stdout",
     "output_type": "stream",
     "text": [
      "Traceback (most recent call last):\n",
      "  File \"/usr/local/bin/state\", line 5, in <module>\n",
      "    from state.__main__ import main\n",
      "ModuleNotFoundError: No module named 'state'\n"
     ]
    }
   ],
   "source": [
    "# State TX Training Command\n",
    "# This setups up training for State across datasets, using ESM2 featurizations\n",
    "# of genes as the perturbation embeddings. Note that we are now generalizing\n",
    "# across both contexts and perturbations (not just contexts)\n",
    "! state tx train \\\n",
    "  data.kwargs.toml_config_path=\"competition_support_set/starter.toml\" \\\n",
    "  data.kwargs.num_workers=4 \\\n",
    "  data.kwargs.batch_col=\"batch_var\" \\\n",
    "  data.kwargs.pert_col=\"target_gene\" \\\n",
    "  data.kwargs.cell_type_key=\"cell_type\" \\\n",
    "  data.kwargs.control_pert=\"non-targeting\" \\\n",
    "  data.kwargs.perturbation_features_file=\"competition_support_set/ESM2_pert_features.pt\" \\\n",
    "  training.max_steps=400 \\\n",
    "  training.ckpt_every_n_steps=200 \\\n",
    "  model=state_sm \\\n",
    "  wandb.entity=\"arcinstitute\" \\\n",
    "  wandb.project=\"state-training\" \\\n",
    "  output_dir=\"competition\" \\\n",
    "  name=\"first_run\""
   ]
  },
  {
   "cell_type": "code",
   "execution_count": 6,
   "id": "d5278280-5f93-4fce-8501-9891b26b197b",
   "metadata": {},
   "outputs": [],
   "source": [
    "# install wandb\n",
    "# ! pip install wandb\n",
    "import wandb"
   ]
  },
  {
   "cell_type": "code",
   "execution_count": 13,
   "id": "8562b2e9-b43c-4a54-a81c-967470b28a11",
   "metadata": {},
   "outputs": [
    {
     "name": "stdout",
     "output_type": "stream",
     "text": [
      "usage: state tx train [-h] [hydra_overrides ...]\n",
      "\n",
      "positional arguments:\n",
      "  hydra_overrides  Hydra configuration overrides (e.g., data.batch_size=32)\n",
      "\n",
      "options:\n",
      "  -h, --help       show this help message and exit\n"
     ]
    }
   ],
   "source": [
    "! state tx train --cfg job --help"
   ]
  },
  {
   "cell_type": "code",
   "execution_count": 21,
   "id": "5ebb7828-a9eb-4d39-80f0-7e9121133590",
   "metadata": {},
   "outputs": [
    {
     "name": "stdout",
     "output_type": "stream",
     "text": [
      "usage: state [-h] {emb,tx} ...\n",
      "\n",
      "positional arguments:\n",
      "  {emb,tx}\n",
      "\n",
      "options:\n",
      "  -h, --help  show this help message and exit\n"
     ]
    }
   ],
   "source": [
    "# to make sure the state configue files wandb exist, reinstall the sate\n",
    "# solve error hydra.errors.MissingConfigException: In 'config': Could not find 'wandb/default'\n",
    "! uv run state --help --link-mode=copy"
   ]
  },
  {
   "cell_type": "code",
   "execution_count": 7,
   "id": "01c8eca6-2803-409d-957d-4e596cb7982a",
   "metadata": {},
   "outputs": [
    {
     "name": "stdout",
     "output_type": "stream",
     "text": [
      "ls: cannot access 'file:///root/.local/share/uv/tools/arc-state/lib/python3.11/site-packages/state/configs': No such file or directory\n"
     ]
    }
   ],
   "source": [
    "! ls file:///root/.local/share/uv/tools/arc-state/lib/python3.11/site-packages/state/configs"
   ]
  },
  {
   "cell_type": "code",
   "execution_count": 10,
   "id": "f1e6ec6f-c98f-46bf-9641-0aca7c60b1b7",
   "metadata": {},
   "outputs": [
    {
     "name": "stdout",
     "output_type": "stream",
     "text": [
      "/workspace/state\n"
     ]
    }
   ],
   "source": [
    "! pwd"
   ]
  },
  {
   "cell_type": "markdown",
   "id": "b20caccc-93f4-40bb-9aae-c3b1a78977f0",
   "metadata": {},
   "source": [
    "# Run inference on the competition validation perturbations."
   ]
  },
  {
   "cell_type": "code",
   "execution_count": 20,
   "id": "590c3ef0-ff65-4119-b874-2f1ef967fb9c",
   "metadata": {},
   "outputs": [
    {
     "name": "stdout",
     "output_type": "stream",
     "text": [
      "ls: cannot access 'competition/first_run/checkpoints/': No such file or directory\n"
     ]
    }
   ],
   "source": [
    "# View the available checkpoints\n",
    "# This will be populated as you run training\n",
    "\n",
    "! ls competition/first_run/checkpoints/"
   ]
  },
  {
   "cell_type": "code",
   "execution_count": 19,
   "id": "317375b6-3a44-47b1-8177-7bf272056690",
   "metadata": {},
   "outputs": [
    {
     "name": "stdout",
     "output_type": "stream",
     "text": [
      "Traceback (most recent call last):\n",
      "  File \"/root/.local/bin/state\", line 10, in <module>\n",
      "    sys.exit(main())\n",
      "             ^^^^^^\n",
      "  File \"/root/.local/share/uv/tools/arc-state/lib/python3.11/site-packages/state/__main__.py\", line 68, in main\n",
      "    run_tx_infer(args)\n",
      "  File \"/root/.local/share/uv/tools/arc-state/lib/python3.11/site-packages/state/_cli/_tx/_infer.py\", line 58, in run_tx_infer\n",
      "    cfg = load_config(config_path)\n",
      "          ^^^^^^^^^^^^^^^^^^^^^^^^\n",
      "  File \"/root/.local/share/uv/tools/arc-state/lib/python3.11/site-packages/state/_cli/_tx/_infer.py\", line 51, in load_config\n",
      "    raise FileNotFoundError(f\"Could not find config file: {cfg_path}\")\n",
      "FileNotFoundError: Could not find config file: competition/first_run/config.yaml\n"
     ]
    }
   ],
   "source": [
    "! state tx infer \\\n",
    "  --output \"competition/prediction.h5ad\" \\\n",
    "  --model_dir \"competition/first_run\" \\\n",
    "  --checkpoint \"competition/first_run/checkpoints/final.ckpt\" \\\n",
    "  --adata \"competition_support_set/competition_val_template.h5ad\" \\\n",
    "  --pert_col \"target_gene\""
   ]
  },
  {
   "cell_type": "code",
   "execution_count": null,
   "id": "dbacc1ae-bce3-4810-97b7-bf701923b391",
   "metadata": {},
   "outputs": [],
   "source": []
  },
  {
   "cell_type": "code",
   "execution_count": null,
   "id": "e842666c-70e1-4ed6-895c-8c32d7679d1c",
   "metadata": {},
   "outputs": [],
   "source": []
  },
  {
   "cell_type": "code",
   "execution_count": null,
   "id": "70822381-05ad-4c1a-ab5e-37537d6505f8",
   "metadata": {},
   "outputs": [],
   "source": []
  },
  {
   "cell_type": "markdown",
   "id": "8f7e9422-1315-4e80-97e4-65c964124597",
   "metadata": {},
   "source": [
    "# Run Cell-Eval on the resulting anndata and submit your entry to the leaderboard."
   ]
  },
  {
   "cell_type": "code",
   "execution_count": null,
   "id": "f446456a-a271-42d0-a291-78e03cedd559",
   "metadata": {},
   "outputs": [],
   "source": [
    "# install zstd for cell eval prep\n",
    "! sudo apt install -y zstd"
   ]
  },
  {
   "cell_type": "code",
   "execution_count": null,
   "id": "56be4638-5962-42c7-96f0-28c4c645efab",
   "metadata": {},
   "outputs": [],
   "source": [
    "! tool run --from git+https://github.com/ArcInstitute/cell-eval@main cell-eval prep -i competition/prediction.h5ad -g competition_support_set/gene_names.csv"
   ]
  },
  {
   "cell_type": "code",
   "execution_count": null,
   "id": "0a05cb1f-22f7-44f6-b68e-17f663a17bd9",
   "metadata": {},
   "outputs": [],
   "source": []
  },
  {
   "cell_type": "code",
   "execution_count": null,
   "id": "0f391274-2225-44fc-8f68-86879799c6f5",
   "metadata": {},
   "outputs": [],
   "source": []
  }
 ],
 "metadata": {
  "kernelspec": {
   "display_name": "Python 3 (ipykernel)",
   "language": "python",
   "name": "python3"
  },
  "language_info": {
   "codemirror_mode": {
    "name": "ipython",
    "version": 3
   },
   "file_extension": ".py",
   "mimetype": "text/x-python",
   "name": "python",
   "nbconvert_exporter": "python",
   "pygments_lexer": "ipython3",
   "version": "3.11.13"
  }
 },
 "nbformat": 4,
 "nbformat_minor": 5
}
